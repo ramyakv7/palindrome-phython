{
 "cells": [
  {
   "cell_type": "code",
   "execution_count": 1,
   "id": "8258a50b",
   "metadata": {},
   "outputs": [
    {
     "name": "stdout",
     "output_type": "stream",
     "text": [
      "Please enter a string: Nan\n",
      "nan is a palindrome\n"
     ]
    }
   ],
   "source": [
    "input_str = input(\"Enter a string: \").lower()\n",
    " \n",
    "if list(input_str) == list(reversed(input_str)):\n",
    "    print(\"{} is a palindrome\".format(input_str))\n",
    "else:\n",
    "    print(\"{} is NOT a palindrome\".format(input_str))\n",
    "    \n",
    "    "
   ]
  },
  {
   "cell_type": "code",
   "execution_count": 2,
   "id": "145fb738",
   "metadata": {},
   "outputs": [
    {
     "name": "stdout",
     "output_type": "stream",
     "text": [
      "Please enter a string: Roti\n",
      "roti is NOT a palindrome\n"
     ]
    }
   ],
   "source": [
    "input_str = input(\"Enter a string: \").lower()\n",
    " \n",
    "if list(input_str) == list(reversed(input_str)):\n",
    "    print(\"{} is a palindrome\".format(input_str))\n",
    "else:\n",
    "    print(\"{} is NOT a palindrome\".format(input_str))\n",
    "    \n",
    "    "
   ]
  },
  {
   "cell_type": "code",
   "execution_count": null,
   "id": "a42d1044",
   "metadata": {},
   "outputs": [],
   "source": []
  },
  {
   "cell_type": "code",
   "execution_count": null,
   "id": "9afe631b",
   "metadata": {},
   "outputs": [],
   "source": []
  },
  {
   "cell_type": "code",
   "execution_count": null,
   "id": "bcc41acb",
   "metadata": {},
   "outputs": [],
   "source": []
  },
  {
   "cell_type": "code",
   "execution_count": null,
   "id": "857df658",
   "metadata": {},
   "outputs": [],
   "source": []
  }
 ],
 "metadata": {
  "kernelspec": {
   "display_name": "Python 3",
   "language": "python",
   "name": "python3"
  },
  "language_info": {
   "codemirror_mode": {
    "name": "ipython",
    "version": 3
   },
   "file_extension": ".py",
   "mimetype": "text/x-python",
   "name": "python",
   "nbconvert_exporter": "python",
   "pygments_lexer": "ipython3",
   "version": "3.8.8"
  }
 },
 "nbformat": 4,
 "nbformat_minor": 5
}
